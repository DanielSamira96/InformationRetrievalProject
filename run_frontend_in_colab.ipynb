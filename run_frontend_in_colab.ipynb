{
  "nbformat": 4,
  "nbformat_minor": 0,
  "metadata": {
    "colab": {
      "provenance": []
    },
    "kernelspec": {
      "name": "python3",
      "display_name": "Python 3"
    },
    "language_info": {
      "name": "python"
    }
  },
  "cells": [
    {
      "cell_type": "code",
      "source": [
        "# download nltk stopwords\n",
        "import nltk\n",
        "nltk.download('stopwords')"
      ],
      "metadata": {
        "id": "bCPDHP7zTQJZ",
        "colab": {
          "base_uri": "https://localhost:8080/"
        },
        "outputId": "d704e7ab-281a-442a-82f9-2398330f4bb2"
      },
      "execution_count": null,
      "outputs": [
        {
          "output_type": "stream",
          "name": "stdout",
          "text": [
            "[nltk_data] Downloading package stopwords to /root/nltk_data...\n",
            "[nltk_data]   Unzipping corpora/stopwords.zip.\n"
          ]
        },
        {
          "output_type": "execute_result",
          "data": {
            "text/plain": [
              "True"
            ]
          },
          "metadata": {},
          "execution_count": 1
        }
      ]
    },
    {
      "cell_type": "code",
      "source": [
        "# Install a particular version of `google-cloud-storage` because (oddly enough) \n",
        "# the  version on Colab and GCP is old. A dependency error below is okay.\n",
        "!pip install -q google-cloud-storage==1.43.0"
      ],
      "metadata": {
        "id": "lAt6KT8xOgHH",
        "colab": {
          "base_uri": "https://localhost:8080/"
        },
        "outputId": "d7ae1841-f7f2-4d05-d6b3-ae552547d708"
      },
      "execution_count": null,
      "outputs": [
        {
          "output_type": "stream",
          "name": "stdout",
          "text": [
            "\u001b[K     |████████████████████████████████| 106 kB 9.7 MB/s \n",
            "\u001b[K     |████████████████████████████████| 75 kB 4.0 MB/s \n",
            "\u001b[K     |████████████████████████████████| 109 kB 39.4 MB/s \n",
            "\u001b[31mERROR: pip's dependency resolver does not currently take into account all the packages that are installed. This behaviour is the source of the following dependency conflicts.\n",
            "google-cloud-translate 1.5.0 requires google-api-core[grpc]<2.0.0dev,>=1.6.0, but you have google-api-core 2.3.2 which is incompatible.\n",
            "google-cloud-translate 1.5.0 requires google-cloud-core<2.0dev,>=1.0.0, but you have google-cloud-core 2.2.1 which is incompatible.\n",
            "google-cloud-language 1.2.0 requires google-api-core[grpc]<2.0.0dev,>=1.6.0, but you have google-api-core 2.3.2 which is incompatible.\n",
            "google-cloud-firestore 1.7.0 requires google-api-core[grpc]<2.0.0dev,>=1.14.0, but you have google-api-core 2.3.2 which is incompatible.\n",
            "google-cloud-firestore 1.7.0 requires google-cloud-core<2.0dev,>=1.0.3, but you have google-cloud-core 2.2.1 which is incompatible.\n",
            "google-cloud-datastore 1.8.0 requires google-api-core[grpc]<2.0.0dev,>=1.6.0, but you have google-api-core 2.3.2 which is incompatible.\n",
            "google-cloud-datastore 1.8.0 requires google-cloud-core<2.0dev,>=1.0.0, but you have google-cloud-core 2.2.1 which is incompatible.\n",
            "google-cloud-bigquery 1.21.0 requires google-cloud-core<2.0dev,>=1.0.3, but you have google-cloud-core 2.2.1 which is incompatible.\n",
            "google-cloud-bigquery 1.21.0 requires google-resumable-media!=0.4.0,<0.5.0dev,>=0.3.1, but you have google-resumable-media 2.1.0 which is incompatible.\n",
            "google-cloud-bigquery-storage 1.1.0 requires google-api-core[grpc]<2.0.0dev,>=1.14.0, but you have google-api-core 2.3.2 which is incompatible.\n",
            "google-api-python-client 1.12.8 requires google-api-core<2dev,>=1.21.0, but you have google-api-core 2.3.2 which is incompatible.\n",
            "firebase-admin 4.4.0 requires google-api-core[grpc]<2.0.0dev,>=1.14.0; platform_python_implementation != \"PyPy\", but you have google-api-core 2.3.2 which is incompatible.\u001b[0m\n",
            "\u001b[?25h"
          ]
        }
      ]
    },
    {
      "cell_type": "code",
      "source": [
        "# authenticate below for Google Storage access as needed\n",
        "from google.colab import auth\n",
        "auth.authenticate_user()"
      ],
      "metadata": {
        "id": "-oKFly5jFLFn"
      },
      "execution_count": null,
      "outputs": []
    },
    {
      "cell_type": "code",
      "source": [
        "# install ngrok to emulate public IP / address\n",
        "!wget -N https://bin.equinox.io/c/4VmDzA7iaHb/ngrok-stable-linux-amd64.zip -O ngrok-stable-linux-amd64.zip\n",
        "!unzip -u ngrok-stable-linux-amd64.zip"
      ],
      "metadata": {
        "id": "FrBdFNYgiyab",
        "colab": {
          "base_uri": "https://localhost:8080/"
        },
        "outputId": "3e06da80-6e48-48c7-f7d0-66feaf371e16"
      },
      "execution_count": null,
      "outputs": [
        {
          "output_type": "stream",
          "name": "stdout",
          "text": [
            "WARNING: timestamping does nothing in combination with -O. See the manual\n",
            "for details.\n",
            "\n",
            "--2022-01-04 08:45:54--  https://bin.equinox.io/c/4VmDzA7iaHb/ngrok-stable-linux-amd64.zip\n",
            "Resolving bin.equinox.io (bin.equinox.io)... 52.202.168.65, 54.161.241.46, 54.237.133.81, ...\n",
            "Connecting to bin.equinox.io (bin.equinox.io)|52.202.168.65|:443... connected.\n",
            "HTTP request sent, awaiting response... 200 OK\n",
            "Length: 13832437 (13M) [application/octet-stream]\n",
            "Saving to: ‘ngrok-stable-linux-amd64.zip’\n",
            "\n",
            "ngrok-stable-linux- 100%[===================>]  13.19M  19.2MB/s    in 0.7s    \n",
            "\n",
            "2022-01-04 08:45:55 (19.2 MB/s) - ‘ngrok-stable-linux-amd64.zip’ saved [13832437/13832437]\n",
            "\n",
            "Archive:  ngrok-stable-linux-amd64.zip\n",
            "  inflating: ngrok                   \n"
          ]
        }
      ]
    },
    {
      "cell_type": "code",
      "source": [
        "# TODO: sign up for an ngrok account\n",
        "# then put your ngrok token below, uncomment, and execute\n",
        "!./ngrok authtoken 22KeqcMQYpd2iRnsaZZOzlyaNw0_5NAk69pXRUMvfrf1oCNpU"
      ],
      "metadata": {
        "id": "xA-_dKEZbsXW",
        "colab": {
          "base_uri": "https://localhost:8080/"
        },
        "outputId": "adbcf9ff-78d0-46e7-df05-2a15452355e0"
      },
      "execution_count": null,
      "outputs": [
        {
          "output_type": "stream",
          "name": "stdout",
          "text": [
            "Authtoken saved to configuration file: /root/.ngrok2/ngrok.yml\n"
          ]
        }
      ]
    },
    {
      "cell_type": "code",
      "execution_count": null,
      "metadata": {
        "id": "nXn5PlyGORQr",
        "colab": {
          "base_uri": "https://localhost:8080/"
        },
        "outputId": "c823bfa1-f532-408f-be82-66cc63c64383"
      },
      "outputs": [
        {
          "output_type": "stream",
          "name": "stdout",
          "text": [
            "\u001b[?25l\r\u001b[K     |████                            | 10 kB 22.2 MB/s eta 0:00:01\r\u001b[K     |████████                        | 20 kB 26.8 MB/s eta 0:00:01\r\u001b[K     |███████████▉                    | 30 kB 31.0 MB/s eta 0:00:01\r\u001b[K     |███████████████▉                | 40 kB 16.2 MB/s eta 0:00:01\r\u001b[K     |███████████████████▊            | 51 kB 9.8 MB/s eta 0:00:01\r\u001b[K     |███████████████████████▊        | 61 kB 7.6 MB/s eta 0:00:01\r\u001b[K     |███████████████████████████▋    | 71 kB 8.1 MB/s eta 0:00:01\r\u001b[K     |███████████████████████████████▋| 81 kB 9.0 MB/s eta 0:00:01\r\u001b[K     |████████████████████████████████| 83 kB 916 kB/s \n",
            "\u001b[?25h"
          ]
        }
      ],
      "source": [
        "# install a ngrok python package and a version of flask that works with it in \n",
        "# colab\n",
        "!pip -q install flask-ngrok\n",
        "!pip -q install flask==0.12.2\n",
        "# !pip -q install flask_restful"
      ]
    },
    {
      "cell_type": "markdown",
      "source": [
        "# Run the app"
      ],
      "metadata": {
        "id": "6dW0y91OVu5J"
      }
    },
    {
      "cell_type": "code",
      "source": [
        "# you need to upload your implementation of search_app.py\n",
        "import search_frontend as se"
      ],
      "metadata": {
        "id": "7opNkV6uRHIv"
      },
      "execution_count": null,
      "outputs": []
    },
    {
      "cell_type": "code",
      "source": [
        "# uncomment the code below and execute to reload the module when you make \n",
        "# changes to search_frontend.py (after you upload again).\n",
        "# import importlib\n",
        "# importlib.reload(se)"
      ],
      "metadata": {
        "id": "oTGXXYEXV5l8"
      },
      "execution_count": null,
      "outputs": []
    },
    {
      "cell_type": "code",
      "source": [
        "from flask_ngrok import run_with_ngrok\n",
        "run_with_ngrok(se.app) \n",
        "se.app.run()"
      ],
      "metadata": {
        "id": "J5n9u9rFP_wD",
        "colab": {
          "base_uri": "https://localhost:8080/"
        },
        "outputId": "1fa290ab-72a6-4262-cb71-9316490b3c69"
      },
      "execution_count": null,
      "outputs": [
        {
          "output_type": "stream",
          "name": "stderr",
          "text": [
            " * Running on http://127.0.0.1:5000/ (Press CTRL+C to quit)\n"
          ]
        },
        {
          "output_type": "stream",
          "name": "stdout",
          "text": [
            " * Running on http://c271-34-125-136-123.ngrok.io\n",
            " * Traffic stats available on http://127.0.0.1:4040\n"
          ]
        },
        {
          "output_type": "stream",
          "name": "stderr",
          "text": [
            "127.0.0.1 - - [04/Jan/2022 08:48:13] \"\u001b[37mGET /search?query=hello HTTP/1.1\u001b[0m\" 200 -\n",
            "127.0.0.1 - - [04/Jan/2022 08:48:13] \"\u001b[33mGET /favicon.ico HTTP/1.1\u001b[0m\" 404 -\n",
            "127.0.0.1 - - [04/Jan/2022 08:49:10] \"\u001b[37mGET /search_body?query=hello HTTP/1.1\u001b[0m\" 200 -\n",
            "127.0.0.1 - - [04/Jan/2022 08:49:10] \"\u001b[33mGET /favicon.ico HTTP/1.1\u001b[0m\" 404 -\n"
          ]
        }
      ]
    },
    {
      "cell_type": "markdown",
      "source": [
        "# Testing your app\n",
        "\n",
        "Once your app is running you can query it. You can simply do that by navigating to the URL that ngrok gave you above or through code in a different python session. For example, once the frontend app is running, you can navigate to:\n",
        "http://YOUR_SERVER_DOMAIN/search?query=hello+world where YOUR_SERVER_DOMAIN is something like XXXX-XX-XX-XX-XX.ngrok.io, which is printed above in Colab or that is your external IP on GCP.\n",
        "\n",
        "The code below shows how to issue a query from python. This is also how our testing code will issue queries to your search engine, so make sure to test your search engine this way after you deploy it to GCP and before submission. Command line instructions for deploying your search engine to GCP are available at `run_frontend_in_gcp.sh`. Note that we will not only issue training queries to your search engine, but also test queries, i.e. queries that you've never seen before."
      ],
      "metadata": {
        "id": "Na0MC_1nzDbi"
      }
    },
    {
      "cell_type": "code",
      "source": [
        "import json\n",
        "\n",
        "with open('queries_train.json', 'rt') as f:\n",
        "  queries = json.load(f)"
      ],
      "metadata": {
        "id": "EM5ePrRHojbG"
      },
      "execution_count": 13,
      "outputs": []
    },
    {
      "cell_type": "code",
      "source": [
        "def average_precision(true_list, predicted_list, k=40):\n",
        "    true_set = frozenset(true_list)\n",
        "    predicted_list = predicted_list[:k]\n",
        "    precisions = []\n",
        "    for i,doc_id in enumerate(predicted_list):        \n",
        "        if doc_id in true_set:\n",
        "            prec = (len(precisions)+1) / (i+1)            \n",
        "            precisions.append(prec)\n",
        "    if len(precisions) == 0:\n",
        "        return 0.0\n",
        "    return round(sum(precisions)/len(precisions),3)\n",
        "\n",
        "url = 'http://34.122.57.217:8080'"
      ],
      "metadata": {
        "id": "gWimZWCOy3Ei"
      },
      "execution_count": 14,
      "outputs": []
    },
    {
      "cell_type": "code",
      "source": [
        "import requests\n",
        "from time import time\n",
        "\n",
        "qs_res = []\n",
        "av_total = 0\n",
        "duration_total = 0\n",
        "for q, true_wids in queries.items():\n",
        "  duration, ap = None, None\n",
        "  t_start = time()\n",
        "  try:\n",
        "    res = requests.get(url + '/search', {'query': q}, timeout=35)\n",
        "    duration = time() - t_start\n",
        "    duration_total += duration\n",
        "    if res.status_code == 200:\n",
        "      pred_wids, _ = zip(*res.json())\n",
        "      ap = average_precision(true_wids, pred_wids)\n",
        "      av_total += ap\n",
        "  except:\n",
        "    pass\n",
        "  \n",
        "  qs_res.append((q, duration, ap))\n",
        "print(\"Average av = \" + str(av_total / len(qs_res)))\n",
        "print(\"Average duration = \" + str(duration_total / len(qs_res)))\n",
        "qs_res"
      ],
      "metadata": {
        "id": "dYmNTq9u0ChK",
        "colab": {
          "base_uri": "https://localhost:8080/"
        },
        "outputId": "962362e4-6719-4521-c720-47b4b1dd20e8"
      },
      "execution_count": 15,
      "outputs": [
        {
          "output_type": "stream",
          "name": "stdout",
          "text": [
            "Average av = 0.4740333333333334\n",
            "Average duration = 1.7774594306945801\n"
          ]
        },
        {
          "output_type": "execute_result",
          "data": {
            "text/plain": [
              "[('best marvel movie', 2.940922737121582, 0.388),\n",
              " ('How do kids come to world?', 4.976233959197998, 0.189),\n",
              " ('Information retrieval', 1.1563773155212402, 0.861),\n",
              " ('LinkedIn', 0.014243364334106445, 0.862),\n",
              " ('How to make coffee?', 1.7711775302886963, 0.447),\n",
              " ('Ritalin', 0.006956338882446289, 0.796),\n",
              " ('How to make wine at home?', 4.241507530212402, 0.454),\n",
              " ('Most expensive city in the world', 7.360634803771973, 0.193),\n",
              " ('India', 0.9725799560546875, 0.129),\n",
              " ('how to make money fast?', 2.6443889141082764, 0.568),\n",
              " ('Netflix', 0.06100630760192871, 0.561),\n",
              " ('Apple computer', 0.511143684387207, 0.469),\n",
              " ('The Simpsons', 0.027717113494873047, 0.23),\n",
              " ('World cup', 5.112840414047241, 0.7),\n",
              " ('How to lose weight?', 0.5067093372344971, 0.449),\n",
              " ('Java', 0.07606220245361328, 0.3),\n",
              " ('Air Jordan', 1.3025891780853271, 0.731),\n",
              " ('how to deal with depression?', 0.7114245891571045, 0.31),\n",
              " ('How do you make gold', 2.5193991661071777, 0.259),\n",
              " ('Marijuana', 0.03547978401184082, 0.29),\n",
              " ('How to make hummus', 1.4305388927459717, 0.569),\n",
              " ('Winter', 0.6202006340026855, 0.321),\n",
              " ('Rick and Morty', 0.167158842086792, 0.839),\n",
              " ('Natural Language processing', 1.895630121231079, 0.888),\n",
              " ('World Cup 2022', 5.226351499557495, 0.469),\n",
              " ('Dolly the sheep', 0.13925933837890625, 0.881),\n",
              " ('Cigarettes', 0.04516434669494629, 0.311),\n",
              " ('What is the best place to live in?', 6.51498007774353, 0.25),\n",
              " ('Elon musk', 0.027831315994262695, 0.507),\n",
              " ('How do you breed flowers?', 0.30727362632751465, 0.0)]"
            ]
          },
          "metadata": {},
          "execution_count": 15
        }
      ]
    },
    {
      "cell_type": "code",
      "source": [
        "import requests\n",
        "from time import time\n",
        "\n",
        "qs_res = []\n",
        "av_total = 0\n",
        "duration_total = 0\n",
        "for q, true_wids in queries.items():\n",
        "  duration, ap = None, None\n",
        "  t_start = time()\n",
        "  try:\n",
        "    res = requests.get(url + '/search_body', {'query': q}, timeout=35)\n",
        "    duration = time() - t_start\n",
        "    duration_total += duration\n",
        "    if res.status_code == 200:\n",
        "      pred_wids, _ = zip(*res.json())\n",
        "      ap = average_precision(true_wids, pred_wids)\n",
        "      av_total += ap\n",
        "  except:\n",
        "    pass\n",
        "  \n",
        "  qs_res.append((q, duration, ap))\n",
        "print(\"Average av = \" + str(av_total / len(qs_res)))\n",
        "print(\"Average duration = \" + str(duration_total / len(qs_res)))\n",
        "qs_res"
      ],
      "metadata": {
        "colab": {
          "base_uri": "https://localhost:8080/"
        },
        "id": "vzZjWhyqbTYF",
        "outputId": "7fff496d-2cca-4a95-b70a-f16ded8146ee"
      },
      "execution_count": 6,
      "outputs": [
        {
          "output_type": "stream",
          "name": "stdout",
          "text": [
            "Average av = 0.3849666666666666\n",
            "Average duration = 1.4953412373860677\n"
          ]
        },
        {
          "output_type": "execute_result",
          "data": {
            "text/plain": [
              "[('best marvel movie', 2.449080467224121, 0.221),\n",
              " ('How do kids come to world?', 4.345254898071289, 0.037),\n",
              " ('Information retrieval', 0.9845311641693115, 0.376),\n",
              " ('LinkedIn', 0.01553654670715332, 0.815),\n",
              " ('How to make coffee?', 1.5099046230316162, 0.505),\n",
              " ('Ritalin', 0.006654262542724609, 0.712),\n",
              " ('How to make wine at home?', 3.372323513031006, 0.249),\n",
              " ('Most expensive city in the world', 6.388381004333496, 1.0),\n",
              " ('India', 0.9113571643829346, 0.263),\n",
              " ('how to make money fast?', 2.1678237915039062, 0.276),\n",
              " ('Netflix', 0.05511164665222168, 0.712),\n",
              " ('Apple computer', 0.5216565132141113, 0.508),\n",
              " ('The Simpsons', 0.02642536163330078, 0.192),\n",
              " ('World cup', 4.291909217834473, 0.54),\n",
              " ('How to lose weight?', 0.4066128730773926, 0.288),\n",
              " ('Java', 0.07217884063720703, 0.407),\n",
              " ('Air Jordan', 1.0284132957458496, 0.421),\n",
              " ('how to deal with depression?', 0.5825822353363037, 0.323),\n",
              " ('How do you make gold', 2.0956597328186035, 0.385),\n",
              " ('Marijuana', 0.03460264205932617, 0.081),\n",
              " ('How to make hummus', 1.4953064918518066, 0.809),\n",
              " ('Winter', 0.5102078914642334, 0.335),\n",
              " ('Rick and Morty', 0.1333763599395752, 0.628),\n",
              " ('Natural Language processing', 1.6988511085510254, 0.367),\n",
              " ('World Cup 2022', 4.181634187698364, 0.038),\n",
              " ('Dolly the sheep', 0.11079740524291992, 0.534),\n",
              " ('Ciggarets', 0.005693912506103516, None),\n",
              " ('What is the best place to live in?', 5.1926679611206055, 0.0),\n",
              " ('Elon musk', 0.023813247680664062, 0.494),\n",
              " ('How do you breed flowers?', 0.24188876152038574, 0.033)]"
            ]
          },
          "metadata": {},
          "execution_count": 6
        }
      ]
    },
    {
      "cell_type": "code",
      "source": [
        "import requests\n",
        "from time import time\n",
        "\n",
        "qs_res = []\n",
        "av_total = 0\n",
        "duration_total = 0\n",
        "for q, true_wids in queries.items():\n",
        "  duration, ap = None, None\n",
        "  t_start = time()\n",
        "  try:\n",
        "    res = requests.get(url + '/search_title', {'query': q}, timeout=35)\n",
        "    duration = time() - t_start\n",
        "    duration_total += duration\n",
        "    if res.status_code == 200:\n",
        "      pred_wids, _ = zip(*res.json())\n",
        "      ap = average_precision(true_wids, pred_wids)\n",
        "      av_total += ap\n",
        "  except:\n",
        "    pass\n",
        "  \n",
        "  qs_res.append((q, duration, _[0]))\n",
        "print(\"Average av = \" + str(av_total / len(qs_res)))\n",
        "print(\"Average duration = \" + str(duration_total / len(qs_res)))\n",
        "qs_res"
      ],
      "metadata": {
        "colab": {
          "base_uri": "https://localhost:8080/"
        },
        "id": "J-qOlYJMljPB",
        "outputId": "cd853654-61e3-4a0c-aa4f-aa152726b86e"
      },
      "execution_count": 7,
      "outputs": [
        {
          "output_type": "stream",
          "name": "stdout",
          "text": [
            "Average av = 0.43983333333333335\n",
            "Average duration = 0.0564259926478068\n"
          ]
        },
        {
          "output_type": "execute_result",
          "data": {
            "text/plain": [
              "[('best marvel movie',\n",
              "  0.06739163398742676,\n",
              "  \"Critics' Choice Movie Award for Best Picture\"),\n",
              " ('How do kids come to world?', 0.19700312614440918, 'Kids World'),\n",
              " ('Information retrieval', 0.01874256134033203, 'Information retrieval'),\n",
              " ('LinkedIn', 0.005491971969604492, 'LinkedIn'),\n",
              " ('How to make coffee?', 0.014283180236816406, 'Make Yourself'),\n",
              " ('Ritalin', 0.0054416656494140625, 'Ritalin class-action lawsuits'),\n",
              " ('How to make wine at home?',\n",
              "  0.03967165946960449,\n",
              "  'The Make Yourself at Home EP'),\n",
              " ('Most expensive city in the world',\n",
              "  0.27289557456970215,\n",
              "  'List of most expensive streets by city'),\n",
              " ('India', 0.036550045013427734, 'Bassas da India'),\n",
              " ('how to make money fast?', 0.02160787582397461, 'Make Money Fast'),\n",
              " ('Netflix', 0.0059816837310791016, 'Netflix'),\n",
              " ('Apple computer',\n",
              "  0.020171403884887695,\n",
              "  'Apple Computer, Inc. v. Microsoft Corp.'),\n",
              " ('The Simpsons', 0.006436824798583984, 'The Simpsons'),\n",
              " ('World cup', 0.3042612075805664, 'Cricket World Cup'),\n",
              " ('How to lose weight?',\n",
              "  0.008876323699951172,\n",
              "  'There Is Nothing Left to Lose'),\n",
              " ('Java', 0.00786590576171875, 'Java applet'),\n",
              " ('Air Jordan', 0.06109929084777832, 'Air Jordan'),\n",
              " ('how to deal with depression?', 0.00877523422241211, 'New Deal coalition'),\n",
              " ('How do you make gold', 0.026874780654907227, 'Make Them Gold'),\n",
              " ('Marijuana', 0.006131172180175781, 'Marijuana (disambiguation)'),\n",
              " ('How to make hummus', 0.009660959243774414, 'Make Yourself'),\n",
              " ('Winter', 0.04227495193481445, 'Nuclear winter'),\n",
              " ('Rick and Morty', 0.01318669319152832, 'Rick and Morty'),\n",
              " ('Natural Language processing',\n",
              "  0.06397485733032227,\n",
              "  'Natural language processing'),\n",
              " ('World Cup 2022', 0.30811524391174316, '2018 and 2022 FIFA World Cup bids'),\n",
              " ('Dolly the sheep', 0.00964212417602539, 'Dolly (sheep)'),\n",
              " ('Ciggarets', 0.005800008773803711, 'Dolly (sheep)'),\n",
              " ('What is the best place to live in?',\n",
              "  0.08862185478210449,\n",
              "  'Academy Award for Best Live Action Short Film'),\n",
              " ('Elon musk', 0.006655216217041016, 'Elon Musk'),\n",
              " ('How do you breed flowers?', 0.009294748306274414, 'Horse breed')]"
            ]
          },
          "metadata": {},
          "execution_count": 7
        }
      ]
    },
    {
      "cell_type": "code",
      "source": [
        "import requests\n",
        "from time import time\n",
        "\n",
        "qs_res = []\n",
        "av_total = 0\n",
        "duration_total = 0\n",
        "for q, true_wids in queries.items():\n",
        "  duration, ap = None, None\n",
        "  t_start = time()\n",
        "  try:\n",
        "    res = requests.get(url + '/search_anchor', {'query': q}, timeout=35)\n",
        "    duration = time() - t_start\n",
        "    duration_total += duration\n",
        "    if res.status_code == 200:\n",
        "      pred_wids, _ = zip(*res.json())\n",
        "      ap = average_precision(true_wids, pred_wids)\n",
        "      av_total += ap\n",
        "  except:\n",
        "    pass\n",
        "  \n",
        "  qs_res.append((q, duration, _[0]))\n",
        "print(\"Average av = \" + str(av_total / len(qs_res)))\n",
        "print(\"Average duration = \" + str(duration_total / len(qs_res)))\n",
        "qs_res"
      ],
      "metadata": {
        "colab": {
          "base_uri": "https://localhost:8080/"
        },
        "id": "HsrLUrA6loGp",
        "outputId": "31b9ca27-6ede-4a4b-b4d9-b3818a662198"
      },
      "execution_count": 9,
      "outputs": [
        {
          "output_type": "stream",
          "name": "stdout",
          "text": [
            "Average av = 0.16460000000000002\n",
            "Average duration = 0.3720516045888265\n"
          ]
        },
        {
          "output_type": "execute_result",
          "data": {
            "text/plain": [
              "[('best marvel movie', 0.6780505180358887, 'Marvel Comics'),\n",
              " ('How do kids come to world?', 1.15999436378479, 'Academy Awards'),\n",
              " ('Information retrieval', 0.08580732345581055, 'Espionage'),\n",
              " ('LinkedIn', 0.021677255630493164, 'Academy Awards'),\n",
              " ('How to make coffee?', 0.09036755561828613, 'Academy Awards'),\n",
              " ('Ritalin', 0.005834102630615234, 'Methylphenidate'),\n",
              " ('How to make wine at home?', 0.29260993003845215, 'Alabama'),\n",
              " ('Most expensive city in the world', 2.163865089416504, 'Materialism'),\n",
              " ('India', 0.23818111419677734, 'Autism'),\n",
              " ('how to make money fast?', 0.08882474899291992, 'Azores'),\n",
              " ('Netflix', 0.04771780967712402, 'Achilles'),\n",
              " ('Apple computer', 0.2912139892578125, 'Alabama'),\n",
              " ('The Simpsons', 0.02617955207824707, 'Animal (disambiguation)'),\n",
              " ('World cup', 1.8789489269256592, 'Anarchism'),\n",
              " ('How to lose weight?', 0.010123014450073242, 'Dieting'),\n",
              " ('Java', 0.045804500579833984, 'Anarchism'),\n",
              " ('Air Jordan', 0.5630455017089844, 'Anarchism'),\n",
              " ('how to deal with depression?',\n",
              "  0.043553829193115234,\n",
              "  'Professional wrestling match types'),\n",
              " ('How do you make gold', 0.18672633171081543, 'Alabama'),\n",
              " ('Marijuana', 0.0064160823822021484, 'Controlled Substances Act'),\n",
              " ('How to make hummus', 0.057039499282836914, 'Alabama'),\n",
              " ('Winter', 0.13348722457885742, 'Autism'),\n",
              " ('Rick and Morty', 0.0685262680053711, 'Suicide by cop'),\n",
              " ('Natural Language processing', 0.26766347885131836, 'Alabama'),\n",
              " ('World Cup 2022', 1.8444263935089111, 'Alabama'),\n",
              " ('Dolly the sheep', 0.009774923324584961, 'Dolly (sheep)'),\n",
              " ('Ciggarets', 0.005620241165161133, 'Dolly (sheep)'),\n",
              " ('What is the best place to live in?',\n",
              "  0.8131427764892578,\n",
              "  'Battle of Gettysburg'),\n",
              " ('Elon musk', 0.007468223571777344, 'Elon Musk'),\n",
              " ('How do you breed flowers?', 0.029457569122314453, 'Apuleius')]"
            ]
          },
          "metadata": {},
          "execution_count": 9
        }
      ]
    },
    {
      "cell_type": "code",
      "source": [
        "import requests\n",
        "from time import time\n",
        "lst = [12, 40, 3080, 4500]\n",
        "\n",
        "pred_wids = []\n",
        "qs_res = []\n",
        "duration, ap = None, None\n",
        "t_start = time()\n",
        "try:\n",
        "  res = requests.post(url +'/get_pagerank', json=lst)\n",
        "  duration = time() - t_start\n",
        "  if res.status_code == 200:\n",
        "    pred_wids = res.json()\n",
        "except:\n",
        "  pass\n",
        "\n",
        "print(pred_wids)"
      ],
      "metadata": {
        "colab": {
          "base_uri": "https://localhost:8080/"
        },
        "id": "AYvkFQdDlzSq",
        "outputId": "7ffae9e6-31f5-4a0c-839b-10649fdd56c6"
      },
      "execution_count": 10,
      "outputs": [
        {
          "output_type": "stream",
          "name": "stdout",
          "text": [
            "[147.7334534423781, 0, 235.82512239484552, 0]\n"
          ]
        }
      ]
    },
    {
      "cell_type": "code",
      "source": [
        "import requests\n",
        "from time import time\n",
        "lst = [3390, 737, 307, 308, 330, 316, 324, 25, 340]\n",
        "pred_wids = []\n",
        "\n",
        "qs_res = []\n",
        "duration, ap = None, None\n",
        "t_start = time()\n",
        "try:\n",
        "  res = requests.post(url +'/get_pageview', json=lst)\n",
        "  duration = time() - t_start\n",
        "  if res.status_code == 200:\n",
        "    pred_wids = res.json()\n",
        "except:\n",
        "  pass\n",
        "\n",
        "print(pred_wids)"
      ],
      "metadata": {
        "colab": {
          "base_uri": "https://localhost:8080/"
        },
        "id": "5yxYJoTMnLlO",
        "outputId": "138cba6c-3952-47fe-d5db-04c4dd3ea3de"
      },
      "execution_count": 11,
      "outputs": [
        {
          "output_type": "stream",
          "name": "stdout",
          "text": [
            "[4525604, 6039676, 343343, 151041, 39, 7167, 223758, 114746, 1222]\n"
          ]
        }
      ]
    }
  ]
}